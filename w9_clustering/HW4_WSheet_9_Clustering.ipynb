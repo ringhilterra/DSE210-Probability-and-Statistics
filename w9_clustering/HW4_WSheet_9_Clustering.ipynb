{
 "cells": [
  {
   "cell_type": "markdown",
   "metadata": {},
   "source": [
    "Author: Ryan Inghilterra - DSE 210 - Worksheet 9 Clustering"
   ]
  },
  {
   "cell_type": "code",
   "execution_count": 1,
   "metadata": {},
   "outputs": [],
   "source": [
    "import pandas as pd\n",
    "from sklearn.cluster import KMeans"
   ]
  },
  {
   "cell_type": "markdown",
   "metadata": {},
   "source": [
    "read in the data, there are 50 animals in the dataset and there are 85 different features"
   ]
  },
  {
   "cell_type": "code",
   "execution_count": 2,
   "metadata": {},
   "outputs": [
    {
     "name": "stdout",
     "output_type": "stream",
     "text": [
      "(50, 85)\n"
     ]
    },
    {
     "data": {
      "text/html": [
       "<div>\n",
       "<style>\n",
       "    .dataframe thead tr:only-child th {\n",
       "        text-align: right;\n",
       "    }\n",
       "\n",
       "    .dataframe thead th {\n",
       "        text-align: left;\n",
       "    }\n",
       "\n",
       "    .dataframe tbody tr th {\n",
       "        vertical-align: top;\n",
       "    }\n",
       "</style>\n",
       "<table border=\"1\" class=\"dataframe\">\n",
       "  <thead>\n",
       "    <tr style=\"text-align: right;\">\n",
       "      <th></th>\n",
       "      <th>0</th>\n",
       "      <th>1</th>\n",
       "      <th>2</th>\n",
       "      <th>3</th>\n",
       "      <th>4</th>\n",
       "      <th>5</th>\n",
       "      <th>6</th>\n",
       "      <th>7</th>\n",
       "      <th>8</th>\n",
       "      <th>9</th>\n",
       "      <th>...</th>\n",
       "      <th>75</th>\n",
       "      <th>76</th>\n",
       "      <th>77</th>\n",
       "      <th>78</th>\n",
       "      <th>79</th>\n",
       "      <th>80</th>\n",
       "      <th>81</th>\n",
       "      <th>82</th>\n",
       "      <th>83</th>\n",
       "      <th>84</th>\n",
       "    </tr>\n",
       "    <tr>\n",
       "      <th>animal_name</th>\n",
       "      <th></th>\n",
       "      <th></th>\n",
       "      <th></th>\n",
       "      <th></th>\n",
       "      <th></th>\n",
       "      <th></th>\n",
       "      <th></th>\n",
       "      <th></th>\n",
       "      <th></th>\n",
       "      <th></th>\n",
       "      <th></th>\n",
       "      <th></th>\n",
       "      <th></th>\n",
       "      <th></th>\n",
       "      <th></th>\n",
       "      <th></th>\n",
       "      <th></th>\n",
       "      <th></th>\n",
       "      <th></th>\n",
       "      <th></th>\n",
       "      <th></th>\n",
       "    </tr>\n",
       "  </thead>\n",
       "  <tbody>\n",
       "    <tr>\n",
       "      <th>antelope</th>\n",
       "      <td>-1.00</td>\n",
       "      <td>-1.00</td>\n",
       "      <td>-1.0</td>\n",
       "      <td>-1.00</td>\n",
       "      <td>12.34</td>\n",
       "      <td>0.0</td>\n",
       "      <td>0.0</td>\n",
       "      <td>0.0</td>\n",
       "      <td>16.11</td>\n",
       "      <td>9.19</td>\n",
       "      <td>...</td>\n",
       "      <td>0.00</td>\n",
       "      <td>0.00</td>\n",
       "      <td>1.23</td>\n",
       "      <td>10.49</td>\n",
       "      <td>39.24</td>\n",
       "      <td>17.57</td>\n",
       "      <td>50.59</td>\n",
       "      <td>2.35</td>\n",
       "      <td>9.70</td>\n",
       "      <td>8.38</td>\n",
       "    </tr>\n",
       "    <tr>\n",
       "      <th>grizzly+bear</th>\n",
       "      <td>39.25</td>\n",
       "      <td>1.39</td>\n",
       "      <td>0.0</td>\n",
       "      <td>74.14</td>\n",
       "      <td>3.75</td>\n",
       "      <td>0.0</td>\n",
       "      <td>0.0</td>\n",
       "      <td>0.0</td>\n",
       "      <td>1.25</td>\n",
       "      <td>0.00</td>\n",
       "      <td>...</td>\n",
       "      <td>7.64</td>\n",
       "      <td>9.79</td>\n",
       "      <td>53.14</td>\n",
       "      <td>61.80</td>\n",
       "      <td>12.50</td>\n",
       "      <td>24.00</td>\n",
       "      <td>3.12</td>\n",
       "      <td>58.64</td>\n",
       "      <td>20.14</td>\n",
       "      <td>11.39</td>\n",
       "    </tr>\n",
       "    <tr>\n",
       "      <th>killer+whale</th>\n",
       "      <td>83.40</td>\n",
       "      <td>64.79</td>\n",
       "      <td>0.0</td>\n",
       "      <td>0.00</td>\n",
       "      <td>1.25</td>\n",
       "      <td>0.0</td>\n",
       "      <td>0.0</td>\n",
       "      <td>0.0</td>\n",
       "      <td>68.49</td>\n",
       "      <td>32.69</td>\n",
       "      <td>...</td>\n",
       "      <td>79.49</td>\n",
       "      <td>0.00</td>\n",
       "      <td>0.00</td>\n",
       "      <td>38.27</td>\n",
       "      <td>9.77</td>\n",
       "      <td>52.03</td>\n",
       "      <td>24.94</td>\n",
       "      <td>15.77</td>\n",
       "      <td>13.41</td>\n",
       "      <td>15.42</td>\n",
       "    </tr>\n",
       "    <tr>\n",
       "      <th>beaver</th>\n",
       "      <td>19.38</td>\n",
       "      <td>0.00</td>\n",
       "      <td>0.0</td>\n",
       "      <td>87.81</td>\n",
       "      <td>7.50</td>\n",
       "      <td>0.0</td>\n",
       "      <td>0.0</td>\n",
       "      <td>0.0</td>\n",
       "      <td>0.00</td>\n",
       "      <td>7.50</td>\n",
       "      <td>...</td>\n",
       "      <td>65.62</td>\n",
       "      <td>0.00</td>\n",
       "      <td>0.00</td>\n",
       "      <td>3.75</td>\n",
       "      <td>31.88</td>\n",
       "      <td>41.88</td>\n",
       "      <td>23.44</td>\n",
       "      <td>31.88</td>\n",
       "      <td>33.44</td>\n",
       "      <td>13.12</td>\n",
       "    </tr>\n",
       "    <tr>\n",
       "      <th>dalmatian</th>\n",
       "      <td>69.58</td>\n",
       "      <td>73.33</td>\n",
       "      <td>0.0</td>\n",
       "      <td>6.39</td>\n",
       "      <td>0.00</td>\n",
       "      <td>0.0</td>\n",
       "      <td>0.0</td>\n",
       "      <td>0.0</td>\n",
       "      <td>37.08</td>\n",
       "      <td>100.00</td>\n",
       "      <td>...</td>\n",
       "      <td>1.25</td>\n",
       "      <td>6.25</td>\n",
       "      <td>0.00</td>\n",
       "      <td>9.38</td>\n",
       "      <td>31.67</td>\n",
       "      <td>53.26</td>\n",
       "      <td>24.44</td>\n",
       "      <td>29.38</td>\n",
       "      <td>11.25</td>\n",
       "      <td>72.71</td>\n",
       "    </tr>\n",
       "  </tbody>\n",
       "</table>\n",
       "<p>5 rows × 85 columns</p>\n",
       "</div>"
      ],
      "text/plain": [
       "                 0      1    2      3      4    5    6    7      8       9   \\\n",
       "animal_name                                                                   \n",
       "antelope      -1.00  -1.00 -1.0  -1.00  12.34  0.0  0.0  0.0  16.11    9.19   \n",
       "grizzly+bear  39.25   1.39  0.0  74.14   3.75  0.0  0.0  0.0   1.25    0.00   \n",
       "killer+whale  83.40  64.79  0.0   0.00   1.25  0.0  0.0  0.0  68.49   32.69   \n",
       "beaver        19.38   0.00  0.0  87.81   7.50  0.0  0.0  0.0   0.00    7.50   \n",
       "dalmatian     69.58  73.33  0.0   6.39   0.00  0.0  0.0  0.0  37.08  100.00   \n",
       "\n",
       "              ...       75    76     77     78     79     80     81     82  \\\n",
       "animal_name   ...                                                            \n",
       "antelope      ...     0.00  0.00   1.23  10.49  39.24  17.57  50.59   2.35   \n",
       "grizzly+bear  ...     7.64  9.79  53.14  61.80  12.50  24.00   3.12  58.64   \n",
       "killer+whale  ...    79.49  0.00   0.00  38.27   9.77  52.03  24.94  15.77   \n",
       "beaver        ...    65.62  0.00   0.00   3.75  31.88  41.88  23.44  31.88   \n",
       "dalmatian     ...     1.25  6.25   0.00   9.38  31.67  53.26  24.44  29.38   \n",
       "\n",
       "                 83     84  \n",
       "animal_name                 \n",
       "antelope       9.70   8.38  \n",
       "grizzly+bear  20.14  11.39  \n",
       "killer+whale  13.41  15.42  \n",
       "beaver        33.44  13.12  \n",
       "dalmatian     11.25  72.71  \n",
       "\n",
       "[5 rows x 85 columns]"
      ]
     },
     "execution_count": 2,
     "metadata": {},
     "output_type": "execute_result"
    }
   ],
   "source": [
    "train_data = pd.read_table('Animals_with_Attributes/predicate-matrix-continuous.txt', delim_whitespace=True, header=None)\n",
    "animal_names = pd.read_table('Animals_with_Attributes/classes.txt', delim_whitespace=True, header=None)\n",
    "print(train_data.shape)\n",
    "train_data['animal_name'] = animal_names[1]\n",
    "train_data = train_data.set_index('animal_name')\n",
    "train_data.head()"
   ]
  },
  {
   "cell_type": "markdown",
   "metadata": {},
   "source": [
    "**(3)** Load the real-valued array, and also the animal names, into Python. Run k-means on the data (from\n",
    "sklearn.cluster) and ask for k = 10 clusters. For each cluster, list the animals in it. Does the\n",
    "clustering make sense?"
   ]
  },
  {
   "cell_type": "code",
   "execution_count": 3,
   "metadata": {},
   "outputs": [
    {
     "data": {
      "text/plain": [
       "array([5, 8, 2, 3, 1, 1, 5, 9, 2, 1, 6, 6, 9, 7, 9, 0, 4, 2, 7, 4, 0, 9, 0,\n",
       "       2, 4, 6, 6, 7, 6, 6, 5, 9, 1, 6, 1, 3, 0, 5, 4, 5, 9, 0, 9, 6, 8, 1,\n",
       "       2, 6, 0, 2], dtype=int32)"
      ]
     },
     "execution_count": 3,
     "metadata": {},
     "output_type": "execute_result"
    }
   ],
   "source": [
    "kmeans = KMeans(n_clusters=10)\n",
    "kmeans.fit(train_data)\n",
    "kmeans_results = kmeans.predict(train_data)\n",
    "kmeans_results"
   ]
  },
  {
   "cell_type": "code",
   "execution_count": 4,
   "metadata": {},
   "outputs": [],
   "source": [
    "train_data['cluster'] = kmeans_results\n",
    "final_df = train_data.sort_values('cluster')\n",
    "cluster_dic = {}\n",
    "for i in final_df['cluster'].unique():\n",
    "    cluster_dic[i] = list(final_df[final_df['cluster'] == i].index.values)"
   ]
  },
  {
   "cell_type": "code",
   "execution_count": 5,
   "metadata": {},
   "outputs": [
    {
     "data": {
      "text/plain": [
       "[(0, ['ox', 'cow', 'pig', 'moose', 'sheep', 'buffalo']),\n",
       " (1,\n",
       "  ['dalmatian',\n",
       "   'persian+cat',\n",
       "   'collie',\n",
       "   'siamese+cat',\n",
       "   'chihuahua',\n",
       "   'weasel']),\n",
       " (2,\n",
       "  ['seal',\n",
       "   'humpback+whale',\n",
       "   'dolphin',\n",
       "   'blue+whale',\n",
       "   'killer+whale',\n",
       "   'walrus']),\n",
       " (3, ['beaver', 'otter']),\n",
       " (4, ['giant+panda', 'chimpanzee', 'gorilla', 'spider+monkey']),\n",
       " (5, ['horse', 'deer', 'zebra', 'giraffe', 'antelope']),\n",
       " (6,\n",
       "  ['bat',\n",
       "   'raccoon',\n",
       "   'mouse',\n",
       "   'rabbit',\n",
       "   'skunk',\n",
       "   'squirrel',\n",
       "   'mole',\n",
       "   'hamster',\n",
       "   'rat']),\n",
       " (7, ['hippopotamus', 'elephant', 'rhinoceros']),\n",
       " (8, ['polar+bear', 'grizzly+bear']),\n",
       " (9, ['leopard', 'bobcat', 'german+shepherd', 'lion', 'wolf', 'fox', 'tiger'])]"
      ]
     },
     "execution_count": 5,
     "metadata": {},
     "output_type": "execute_result"
    }
   ],
   "source": [
    "cluster_dic.items() # lets print the resulting clusters"
   ]
  },
  {
   "cell_type": "markdown",
   "metadata": {},
   "source": [
    "the clustering results make sense for the 10 different clusters!"
   ]
  },
  {
   "cell_type": "code",
   "execution_count": null,
   "metadata": {},
   "outputs": [],
   "source": []
  },
  {
   "cell_type": "markdown",
   "metadata": {},
   "source": [
    "-4. Now hierarchically cluster this data, using scipy.cluster.hierarchy.linkage. Choose Ward’s\n",
    "method, and plot the resulting tree using the dendrogram method, setting the orientation parameter\n",
    "to ‘right’ and labeling each leaf with the corresponding animal name."
   ]
  },
  {
   "cell_type": "code",
   "execution_count": 6,
   "metadata": {},
   "outputs": [],
   "source": [
    "from scipy.cluster.hierarchy import dendrogram, linkage\n",
    "from matplotlib import pyplot as plt\n",
    "from pylab import rcParams"
   ]
  },
  {
   "cell_type": "code",
   "execution_count": 7,
   "metadata": {},
   "outputs": [
    {
     "data": {
      "image/png": "[encoded data removed]",
      "text/plain": [
       "<matplotlib.figure.Figure at 0x1a128a0a50>"
      ]
     },
     "metadata": {},
     "output_type": "display_data"
    }
   ],
   "source": [
    "X = [[i] for i in [2, 8, 0, 4, 1, 9, 9, 0]]\n",
    "X = train_data\n",
    "Z = linkage(X, 'ward')\n",
    "rcParams[\"figure.figsize\"] = 6, 12\n",
    "dn = dendrogram(Z, orientation='right', labels=train_data.index.values)"
   ]
  },
  {
   "cell_type": "markdown",
   "metadata": {},
   "source": [
    "result of heiarchical clustering looks good!"
   ]
  }
 ],
 "metadata": {
  "kernelspec": {
   "display_name": "Python 2",
   "language": "python",
   "name": "python2"
  },
  "language_info": {
   "codemirror_mode": {
    "name": "ipython",
    "version": 2
   },
   "file_extension": ".py",
   "mimetype": "text/x-python",
   "name": "python",
   "nbconvert_exporter": "python",
   "pygments_lexer": "ipython2",
   "version": "2.7.11"
  }
 },
 "nbformat": 4,
 "nbformat_minor": 2
}
