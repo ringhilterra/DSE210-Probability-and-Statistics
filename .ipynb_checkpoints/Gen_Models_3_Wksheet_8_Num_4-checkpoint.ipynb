{
 "cells": [
  {
   "cell_type": "markdown",
   "metadata": {},
   "source": [
    "Author: Ryan Inghiterra - DSE210 - Worksheet 8 - Problem 4   \n",
    "Handwritten digit recognition using a Gaussian generative model"
   ]
  },
  {
   "cell_type": "code",
   "execution_count": 592,
   "metadata": {
    "hideCode": false,
    "hidePrompt": false,
    "slideshow": {
     "slide_type": "-"
    }
   },
   "outputs": [],
   "source": [
    "from scipy import stats\n",
    "import pandas as pd\n",
    "import numpy as np\n",
    "import matplotlib as mp\n",
    "import matplotlib.pyplot as plt\n",
    "pd.options.display.max_rows = 999"
   ]
  },
  {
   "cell_type": "code",
   "execution_count": 3,
   "metadata": {
    "hideCode": false,
    "hidePrompt": false,
    "slideshow": {
     "slide_type": "skip"
    }
   },
   "outputs": [],
   "source": [
    "from struct import unpack\n",
    "import numpy as np\n",
    "import matplotlib.pylab as plt \n",
    "\n",
    "def loadmnist(imagefile, labelfile):\n",
    "\n",
    "    # Open the images with gzip in read binary mode\n",
    "    images = open(imagefile, 'rb')\n",
    "    labels = open(labelfile, 'rb')\n",
    "\n",
    "    # Get metadata for images\n",
    "    images.read(4)  # skip the magic_number\n",
    "    number_of_images = images.read(4)\n",
    "    number_of_images = unpack('>I', number_of_images)[0]\n",
    "    rows = images.read(4)\n",
    "    rows = unpack('>I', rows)[0]\n",
    "    cols = images.read(4)\n",
    "    cols = unpack('>I', cols)[0]\n",
    "\n",
    "    # Get metadata for labels\n",
    "    labels.read(4)\n",
    "    N = labels.read(4)\n",
    "    N = unpack('>I', N)[0]\n",
    "\n",
    "    # Get data\n",
    "    x = np.zeros((N, rows*cols), dtype=np.uint8)  # Initialize numpy array\n",
    "    y = np.zeros(N, dtype=np.uint8)  # Initialize numpy array\n",
    "    for i in range(N):\n",
    "        for j in range(rows*cols):\n",
    "            tmp_pixel = images.read(1)  # Just a single byte\n",
    "            tmp_pixel = unpack('>B', tmp_pixel)[0]\n",
    "            x[i][j] = tmp_pixel\n",
    "        tmp_label = labels.read(1)\n",
    "        y[i] = unpack('>B', tmp_label)[0]\n",
    "\n",
    "    images.close()\n",
    "    labels.close()\n",
    "    return (x, y)\n",
    "\n",
    "def displaychar(image):\n",
    "    plt.imshow(np.reshape(image, (28,28)), cmap=plt.cm.gray)\n",
    "    plt.axis('off')\n",
    "    plt.show()"
   ]
  },
  {
   "cell_type": "code",
   "execution_count": 4,
   "metadata": {
    "hideCode": false,
    "hidePrompt": false,
    "slideshow": {
     "slide_type": "skip"
    }
   },
   "outputs": [],
   "source": [
    "x,y = loadmnist('train-images-idx3-ubyte', 'train-labels-idx1-ubyte')"
   ]
  },
  {
   "cell_type": "code",
   "execution_count": 5,
   "metadata": {
    "hideCode": false,
    "hidePrompt": false,
    "slideshow": {
     "slide_type": "slide"
    }
   },
   "outputs": [
    {
     "data": {
      "image/png": "[encoded data removed]",
      "text/plain": [
       "<matplotlib.figure.Figure at 0x10eca5790>"
      ]
     },
     "metadata": {},
     "output_type": "display_data"
    }
   ],
   "source": [
    "displaychar(x[1])"
   ]
  },
  {
   "cell_type": "markdown",
   "metadata": {
    "hideCode": false,
    "hidePrompt": false,
    "slideshow": {
     "slide_type": "skip"
    }
   },
   "source": [
    "x is a 60,000 by 784 array where each row corresponds to an image and y to a length-60,000 array where each entry is a label (0-9)"
   ]
  },
  {
   "cell_type": "markdown",
   "metadata": {
    "hideCode": false,
    "hidePrompt": false,
    "slideshow": {
     "slide_type": "skip"
    }
   },
   "source": [
    "b) split training set into two pieces - training set of 50000 and a separate validation set of size 10,000. Also load in the test data"
   ]
  },
  {
   "cell_type": "code",
   "execution_count": 8,
   "metadata": {
    "hideCode": false,
    "hidePrompt": false,
    "slideshow": {
     "slide_type": "skip"
    }
   },
   "outputs": [
    {
     "name": "stdout",
     "output_type": "stream",
     "text": [
      "(60000, 784)\n",
      "(60000,)\n"
     ]
    }
   ],
   "source": [
    "print(x.shape)\n",
    "print(y.shape)"
   ]
  },
  {
   "cell_type": "code",
   "execution_count": 9,
   "metadata": {
    "hideCode": false,
    "hidePrompt": false,
    "slideshow": {
     "slide_type": "slide"
    }
   },
   "outputs": [
    {
     "name": "stdout",
     "output_type": "stream",
     "text": [
      "(60000, 785)\n"
     ]
    },
    {
     "data": {
      "text/html": [
       "<div>\n",
       "<style>\n",
       "    .dataframe thead tr:only-child th {\n",
       "        text-align: right;\n",
       "    }\n",
       "\n",
       "    .dataframe thead th {\n",
       "        text-align: left;\n",
       "    }\n",
       "\n",
       "    .dataframe tbody tr th {\n",
       "        vertical-align: top;\n",
       "    }\n",
       "</style>\n",
       "<table border=\"1\" class=\"dataframe\">\n",
       "  <thead>\n",
       "    <tr style=\"text-align: right;\">\n",
       "      <th></th>\n",
       "      <th>0</th>\n",
       "      <th>1</th>\n",
       "      <th>2</th>\n",
       "      <th>3</th>\n",
       "      <th>4</th>\n",
       "      <th>5</th>\n",
       "      <th>6</th>\n",
       "      <th>7</th>\n",
       "      <th>8</th>\n",
       "      <th>9</th>\n",
       "      <th>...</th>\n",
       "      <th>775</th>\n",
       "      <th>776</th>\n",
       "      <th>777</th>\n",
       "      <th>778</th>\n",
       "      <th>779</th>\n",
       "      <th>780</th>\n",
       "      <th>781</th>\n",
       "      <th>782</th>\n",
       "      <th>783</th>\n",
       "      <th>label</th>\n",
       "    </tr>\n",
       "  </thead>\n",
       "  <tbody>\n",
       "    <tr>\n",
       "      <th>0</th>\n",
       "      <td>0</td>\n",
       "      <td>0</td>\n",
       "      <td>0</td>\n",
       "      <td>0</td>\n",
       "      <td>0</td>\n",
       "      <td>0</td>\n",
       "      <td>0</td>\n",
       "      <td>0</td>\n",
       "      <td>0</td>\n",
       "      <td>0</td>\n",
       "      <td>...</td>\n",
       "      <td>0</td>\n",
       "      <td>0</td>\n",
       "      <td>0</td>\n",
       "      <td>0</td>\n",
       "      <td>0</td>\n",
       "      <td>0</td>\n",
       "      <td>0</td>\n",
       "      <td>0</td>\n",
       "      <td>0</td>\n",
       "      <td>2</td>\n",
       "    </tr>\n",
       "    <tr>\n",
       "      <th>1</th>\n",
       "      <td>0</td>\n",
       "      <td>0</td>\n",
       "      <td>0</td>\n",
       "      <td>0</td>\n",
       "      <td>0</td>\n",
       "      <td>0</td>\n",
       "      <td>0</td>\n",
       "      <td>0</td>\n",
       "      <td>0</td>\n",
       "      <td>0</td>\n",
       "      <td>...</td>\n",
       "      <td>0</td>\n",
       "      <td>0</td>\n",
       "      <td>0</td>\n",
       "      <td>0</td>\n",
       "      <td>0</td>\n",
       "      <td>0</td>\n",
       "      <td>0</td>\n",
       "      <td>0</td>\n",
       "      <td>0</td>\n",
       "      <td>6</td>\n",
       "    </tr>\n",
       "  </tbody>\n",
       "</table>\n",
       "<p>2 rows × 785 columns</p>\n",
       "</div>"
      ],
      "text/plain": [
       "   0  1  2  3  4  5  6  7  8  9  ...    775  776  777  778  779  780  781  \\\n",
       "0  0  0  0  0  0  0  0  0  0  0  ...      0    0    0    0    0    0    0   \n",
       "1  0  0  0  0  0  0  0  0  0  0  ...      0    0    0    0    0    0    0   \n",
       "\n",
       "   782  783  label  \n",
       "0    0    0      2  \n",
       "1    0    0      6  \n",
       "\n",
       "[2 rows x 785 columns]"
      ]
     },
     "execution_count": 9,
     "metadata": {},
     "output_type": "execute_result"
    }
   ],
   "source": [
    "df = pd.DataFrame(x)\n",
    "df['label'] = y\n",
    "print(df.shape)\n",
    "df = df.sample(frac=1).reset_index(drop=True) #shuffling all 60,000 rows (which have features and labels)\n",
    "df.head(2)"
   ]
  },
  {
   "cell_type": "code",
   "execution_count": 10,
   "metadata": {
    "hideCode": false,
    "hidePrompt": false,
    "slideshow": {
     "slide_type": "skip"
    }
   },
   "outputs": [
    {
     "name": "stdout",
     "output_type": "stream",
     "text": [
      "(50000, 785)\n"
     ]
    }
   ],
   "source": [
    "train_set = df.loc[:49999, :]\n",
    "print(train_set.shape)"
   ]
  },
  {
   "cell_type": "code",
   "execution_count": 298,
   "metadata": {
    "hideCode": false,
    "hidePrompt": false,
    "slideshow": {
     "slide_type": "skip"
    }
   },
   "outputs": [
    {
     "name": "stdout",
     "output_type": "stream",
     "text": [
      "(10000, 785)\n"
     ]
    }
   ],
   "source": [
    "valid_set = df.loc[50000:,:].reset_index()\n",
    "del valid_set['index']\n",
    "print(valid_set.shape)"
   ]
  },
  {
   "cell_type": "code",
   "execution_count": 300,
   "metadata": {},
   "outputs": [
    {
     "data": {
      "text/html": [
       "<div>\n",
       "<style>\n",
       "    .dataframe thead tr:only-child th {\n",
       "        text-align: right;\n",
       "    }\n",
       "\n",
       "    .dataframe thead th {\n",
       "        text-align: left;\n",
       "    }\n",
       "\n",
       "    .dataframe tbody tr th {\n",
       "        vertical-align: top;\n",
       "    }\n",
       "</style>\n",
       "<table border=\"1\" class=\"dataframe\">\n",
       "  <thead>\n",
       "    <tr style=\"text-align: right;\">\n",
       "      <th></th>\n",
       "      <th>0</th>\n",
       "      <th>1</th>\n",
       "      <th>2</th>\n",
       "      <th>3</th>\n",
       "      <th>4</th>\n",
       "      <th>5</th>\n",
       "      <th>6</th>\n",
       "      <th>7</th>\n",
       "      <th>8</th>\n",
       "      <th>9</th>\n",
       "      <th>...</th>\n",
       "      <th>775</th>\n",
       "      <th>776</th>\n",
       "      <th>777</th>\n",
       "      <th>778</th>\n",
       "      <th>779</th>\n",
       "      <th>780</th>\n",
       "      <th>781</th>\n",
       "      <th>782</th>\n",
       "      <th>783</th>\n",
       "      <th>label</th>\n",
       "    </tr>\n",
       "  </thead>\n",
       "  <tbody>\n",
       "    <tr>\n",
       "      <th>0</th>\n",
       "      <td>0</td>\n",
       "      <td>0</td>\n",
       "      <td>0</td>\n",
       "      <td>0</td>\n",
       "      <td>0</td>\n",
       "      <td>0</td>\n",
       "      <td>0</td>\n",
       "      <td>0</td>\n",
       "      <td>0</td>\n",
       "      <td>0</td>\n",
       "      <td>...</td>\n",
       "      <td>0</td>\n",
       "      <td>0</td>\n",
       "      <td>0</td>\n",
       "      <td>0</td>\n",
       "      <td>0</td>\n",
       "      <td>0</td>\n",
       "      <td>0</td>\n",
       "      <td>0</td>\n",
       "      <td>0</td>\n",
       "      <td>2</td>\n",
       "    </tr>\n",
       "    <tr>\n",
       "      <th>1</th>\n",
       "      <td>0</td>\n",
       "      <td>0</td>\n",
       "      <td>0</td>\n",
       "      <td>0</td>\n",
       "      <td>0</td>\n",
       "      <td>0</td>\n",
       "      <td>0</td>\n",
       "      <td>0</td>\n",
       "      <td>0</td>\n",
       "      <td>0</td>\n",
       "      <td>...</td>\n",
       "      <td>0</td>\n",
       "      <td>0</td>\n",
       "      <td>0</td>\n",
       "      <td>0</td>\n",
       "      <td>0</td>\n",
       "      <td>0</td>\n",
       "      <td>0</td>\n",
       "      <td>0</td>\n",
       "      <td>0</td>\n",
       "      <td>3</td>\n",
       "    </tr>\n",
       "    <tr>\n",
       "      <th>2</th>\n",
       "      <td>0</td>\n",
       "      <td>0</td>\n",
       "      <td>0</td>\n",
       "      <td>0</td>\n",
       "      <td>0</td>\n",
       "      <td>0</td>\n",
       "      <td>0</td>\n",
       "      <td>0</td>\n",
       "      <td>0</td>\n",
       "      <td>0</td>\n",
       "      <td>...</td>\n",
       "      <td>0</td>\n",
       "      <td>0</td>\n",
       "      <td>0</td>\n",
       "      <td>0</td>\n",
       "      <td>0</td>\n",
       "      <td>0</td>\n",
       "      <td>0</td>\n",
       "      <td>0</td>\n",
       "      <td>0</td>\n",
       "      <td>0</td>\n",
       "    </tr>\n",
       "    <tr>\n",
       "      <th>3</th>\n",
       "      <td>0</td>\n",
       "      <td>0</td>\n",
       "      <td>0</td>\n",
       "      <td>0</td>\n",
       "      <td>0</td>\n",
       "      <td>0</td>\n",
       "      <td>0</td>\n",
       "      <td>0</td>\n",
       "      <td>0</td>\n",
       "      <td>0</td>\n",
       "      <td>...</td>\n",
       "      <td>0</td>\n",
       "      <td>0</td>\n",
       "      <td>0</td>\n",
       "      <td>0</td>\n",
       "      <td>0</td>\n",
       "      <td>0</td>\n",
       "      <td>0</td>\n",
       "      <td>0</td>\n",
       "      <td>0</td>\n",
       "      <td>7</td>\n",
       "    </tr>\n",
       "  </tbody>\n",
       "</table>\n",
       "<p>4 rows × 785 columns</p>\n",
       "</div>"
      ],
      "text/plain": [
       "   0  1  2  3  4  5  6  7  8  9  ...    775  776  777  778  779  780  781  \\\n",
       "0  0  0  0  0  0  0  0  0  0  0  ...      0    0    0    0    0    0    0   \n",
       "1  0  0  0  0  0  0  0  0  0  0  ...      0    0    0    0    0    0    0   \n",
       "2  0  0  0  0  0  0  0  0  0  0  ...      0    0    0    0    0    0    0   \n",
       "3  0  0  0  0  0  0  0  0  0  0  ...      0    0    0    0    0    0    0   \n",
       "\n",
       "   782  783  label  \n",
       "0    0    0      2  \n",
       "1    0    0      3  \n",
       "2    0    0      0  \n",
       "3    0    0      7  \n",
       "\n",
       "[4 rows x 785 columns]"
      ]
     },
     "execution_count": 300,
     "metadata": {},
     "output_type": "execute_result"
    }
   ],
   "source": [
    "valid_set.head(4)"
   ]
  },
  {
   "cell_type": "code",
   "execution_count": 12,
   "metadata": {
    "hideCode": false,
    "hidePrompt": false,
    "slideshow": {
     "slide_type": "skip"
    }
   },
   "outputs": [],
   "source": [
    "# Also load in test data\n",
    "test_x, test_y = loadmnist('t10k-images-idx3-ubyte', 't10k-labels-idx1-ubyte')"
   ]
  },
  {
   "cell_type": "code",
   "execution_count": 13,
   "metadata": {
    "hideCode": false,
    "hidePrompt": false,
    "slideshow": {
     "slide_type": "slide"
    }
   },
   "outputs": [
    {
     "data": {
      "image/png": "[encoded data removed]",
      "text/plain": [
       "<matplotlib.figure.Figure at 0x1119cb610>"
      ]
     },
     "metadata": {},
     "output_type": "display_data"
    }
   ],
   "source": [
    "displaychar(test_x[1])"
   ]
  },
  {
   "cell_type": "code",
   "execution_count": 14,
   "metadata": {
    "hideCode": false,
    "hidePrompt": false,
    "slideshow": {
     "slide_type": "slide"
    }
   },
   "outputs": [
    {
     "name": "stdout",
     "output_type": "stream",
     "text": [
      "(10000, 785)\n"
     ]
    },
    {
     "data": {
      "text/html": [
       "<div>\n",
       "<style>\n",
       "    .dataframe thead tr:only-child th {\n",
       "        text-align: right;\n",
       "    }\n",
       "\n",
       "    .dataframe thead th {\n",
       "        text-align: left;\n",
       "    }\n",
       "\n",
       "    .dataframe tbody tr th {\n",
       "        vertical-align: top;\n",
       "    }\n",
       "</style>\n",
       "<table border=\"1\" class=\"dataframe\">\n",
       "  <thead>\n",
       "    <tr style=\"text-align: right;\">\n",
       "      <th></th>\n",
       "      <th>0</th>\n",
       "      <th>1</th>\n",
       "      <th>2</th>\n",
       "      <th>3</th>\n",
       "      <th>4</th>\n",
       "      <th>5</th>\n",
       "      <th>6</th>\n",
       "      <th>7</th>\n",
       "      <th>8</th>\n",
       "      <th>9</th>\n",
       "      <th>...</th>\n",
       "      <th>775</th>\n",
       "      <th>776</th>\n",
       "      <th>777</th>\n",
       "      <th>778</th>\n",
       "      <th>779</th>\n",
       "      <th>780</th>\n",
       "      <th>781</th>\n",
       "      <th>782</th>\n",
       "      <th>783</th>\n",
       "      <th>label</th>\n",
       "    </tr>\n",
       "  </thead>\n",
       "  <tbody>\n",
       "    <tr>\n",
       "      <th>0</th>\n",
       "      <td>0</td>\n",
       "      <td>0</td>\n",
       "      <td>0</td>\n",
       "      <td>0</td>\n",
       "      <td>0</td>\n",
       "      <td>0</td>\n",
       "      <td>0</td>\n",
       "      <td>0</td>\n",
       "      <td>0</td>\n",
       "      <td>0</td>\n",
       "      <td>...</td>\n",
       "      <td>0</td>\n",
       "      <td>0</td>\n",
       "      <td>0</td>\n",
       "      <td>0</td>\n",
       "      <td>0</td>\n",
       "      <td>0</td>\n",
       "      <td>0</td>\n",
       "      <td>0</td>\n",
       "      <td>0</td>\n",
       "      <td>7</td>\n",
       "    </tr>\n",
       "    <tr>\n",
       "      <th>1</th>\n",
       "      <td>0</td>\n",
       "      <td>0</td>\n",
       "      <td>0</td>\n",
       "      <td>0</td>\n",
       "      <td>0</td>\n",
       "      <td>0</td>\n",
       "      <td>0</td>\n",
       "      <td>0</td>\n",
       "      <td>0</td>\n",
       "      <td>0</td>\n",
       "      <td>...</td>\n",
       "      <td>0</td>\n",
       "      <td>0</td>\n",
       "      <td>0</td>\n",
       "      <td>0</td>\n",
       "      <td>0</td>\n",
       "      <td>0</td>\n",
       "      <td>0</td>\n",
       "      <td>0</td>\n",
       "      <td>0</td>\n",
       "      <td>2</td>\n",
       "    </tr>\n",
       "  </tbody>\n",
       "</table>\n",
       "<p>2 rows × 785 columns</p>\n",
       "</div>"
      ],
      "text/plain": [
       "   0  1  2  3  4  5  6  7  8  9  ...    775  776  777  778  779  780  781  \\\n",
       "0  0  0  0  0  0  0  0  0  0  0  ...      0    0    0    0    0    0    0   \n",
       "1  0  0  0  0  0  0  0  0  0  0  ...      0    0    0    0    0    0    0   \n",
       "\n",
       "   782  783  label  \n",
       "0    0    0      7  \n",
       "1    0    0      2  \n",
       "\n",
       "[2 rows x 785 columns]"
      ]
     },
     "execution_count": 14,
     "metadata": {},
     "output_type": "execute_result"
    }
   ],
   "source": [
    "test_set = pd.DataFrame(test_x)\n",
    "test_set['label'] = test_y\n",
    "print(test_set.shape)\n",
    "test_set.head(2)"
   ]
  },
  {
   "cell_type": "markdown",
   "metadata": {
    "hideCode": false,
    "hidePrompt": false,
    "slideshow": {
     "slide_type": "subslide"
    }
   },
   "source": [
    "(c) Now fit a gaussian generative model to the training data of 50,000 points"
   ]
  },
  {
   "cell_type": "markdown",
   "metadata": {},
   "source": [
    "determine class probabilities"
   ]
  },
  {
   "cell_type": "code",
   "execution_count": 216,
   "metadata": {
    "hideCode": false,
    "hidePrompt": false,
    "slideshow": {
     "slide_type": "subslide"
    }
   },
   "outputs": [
    {
     "data": {
      "text/plain": [
       "{0: 0.099479999999999999,\n",
       " 1: 0.1129,\n",
       " 2: 0.099239999999999995,\n",
       " 3: 0.10198,\n",
       " 4: 0.097379999999999994,\n",
       " 5: 0.089639999999999997,\n",
       " 6: 0.098360000000000003,\n",
       " 7: 0.10444000000000001,\n",
       " 8: 0.097199999999999995,\n",
       " 9: 0.099379999999999996}"
      ]
     },
     "execution_count": 216,
     "metadata": {},
     "output_type": "execute_result"
    }
   ],
   "source": [
    "# determine the class probilities pi_0 .. pi_9 (what fraction of training points are 0's for instance)\n",
    "pi_probs = train_set.groupby('label').count().iloc[:,0] / 50000\n",
    "pi_probs_dic = pi_probs.to_dict()\n",
    "pi_probs_dic"
   ]
  },
  {
   "cell_type": "markdown",
   "metadata": {},
   "source": [
    " Fit a Gaussian to each digit by finding mean and the covariance of the corresponding data points\n",
    "Let the Gaussian for the jth digit be Pj = N(mean(j), cov_matrix(j))"
   ]
  },
  {
   "cell_type": "code",
   "execution_count": 547,
   "metadata": {},
   "outputs": [
    {
     "data": {
      "text/html": [
       "<div>\n",
       "<style>\n",
       "    .dataframe thead tr:only-child th {\n",
       "        text-align: right;\n",
       "    }\n",
       "\n",
       "    .dataframe thead th {\n",
       "        text-align: left;\n",
       "    }\n",
       "\n",
       "    .dataframe tbody tr th {\n",
       "        vertical-align: top;\n",
       "    }\n",
       "</style>\n",
       "<table border=\"1\" class=\"dataframe\">\n",
       "  <thead>\n",
       "    <tr style=\"text-align: right;\">\n",
       "      <th></th>\n",
       "      <th>0</th>\n",
       "      <th>1</th>\n",
       "      <th>2</th>\n",
       "      <th>3</th>\n",
       "      <th>4</th>\n",
       "      <th>5</th>\n",
       "      <th>6</th>\n",
       "      <th>7</th>\n",
       "      <th>8</th>\n",
       "      <th>9</th>\n",
       "      <th>...</th>\n",
       "      <th>774</th>\n",
       "      <th>775</th>\n",
       "      <th>776</th>\n",
       "      <th>777</th>\n",
       "      <th>778</th>\n",
       "      <th>779</th>\n",
       "      <th>780</th>\n",
       "      <th>781</th>\n",
       "      <th>782</th>\n",
       "      <th>783</th>\n",
       "    </tr>\n",
       "    <tr>\n",
       "      <th>label</th>\n",
       "      <th></th>\n",
       "      <th></th>\n",
       "      <th></th>\n",
       "      <th></th>\n",
       "      <th></th>\n",
       "      <th></th>\n",
       "      <th></th>\n",
       "      <th></th>\n",
       "      <th></th>\n",
       "      <th></th>\n",
       "      <th></th>\n",
       "      <th></th>\n",
       "      <th></th>\n",
       "      <th></th>\n",
       "      <th></th>\n",
       "      <th></th>\n",
       "      <th></th>\n",
       "      <th></th>\n",
       "      <th></th>\n",
       "      <th></th>\n",
       "      <th></th>\n",
       "    </tr>\n",
       "  </thead>\n",
       "  <tbody>\n",
       "    <tr>\n",
       "      <th>0</th>\n",
       "      <td>0.0</td>\n",
       "      <td>0.0</td>\n",
       "      <td>0.0</td>\n",
       "      <td>0.0</td>\n",
       "      <td>0.0</td>\n",
       "      <td>0.0</td>\n",
       "      <td>0.0</td>\n",
       "      <td>0.0</td>\n",
       "      <td>0.0</td>\n",
       "      <td>0.0</td>\n",
       "      <td>...</td>\n",
       "      <td>0.0</td>\n",
       "      <td>0.0</td>\n",
       "      <td>0.0</td>\n",
       "      <td>0.0</td>\n",
       "      <td>0.0</td>\n",
       "      <td>0.0</td>\n",
       "      <td>0.0</td>\n",
       "      <td>0.0</td>\n",
       "      <td>0.0</td>\n",
       "      <td>0.0</td>\n",
       "    </tr>\n",
       "    <tr>\n",
       "      <th>1</th>\n",
       "      <td>0.0</td>\n",
       "      <td>0.0</td>\n",
       "      <td>0.0</td>\n",
       "      <td>0.0</td>\n",
       "      <td>0.0</td>\n",
       "      <td>0.0</td>\n",
       "      <td>0.0</td>\n",
       "      <td>0.0</td>\n",
       "      <td>0.0</td>\n",
       "      <td>0.0</td>\n",
       "      <td>...</td>\n",
       "      <td>0.0</td>\n",
       "      <td>0.0</td>\n",
       "      <td>0.0</td>\n",
       "      <td>0.0</td>\n",
       "      <td>0.0</td>\n",
       "      <td>0.0</td>\n",
       "      <td>0.0</td>\n",
       "      <td>0.0</td>\n",
       "      <td>0.0</td>\n",
       "      <td>0.0</td>\n",
       "    </tr>\n",
       "  </tbody>\n",
       "</table>\n",
       "<p>2 rows × 784 columns</p>\n",
       "</div>"
      ],
      "text/plain": [
       "       0    1    2    3    4    5    6    7    8    9   ...   774  775  776  \\\n",
       "label                                                   ...                   \n",
       "0      0.0  0.0  0.0  0.0  0.0  0.0  0.0  0.0  0.0  0.0 ...   0.0  0.0  0.0   \n",
       "1      0.0  0.0  0.0  0.0  0.0  0.0  0.0  0.0  0.0  0.0 ...   0.0  0.0  0.0   \n",
       "\n",
       "       777  778  779  780  781  782  783  \n",
       "label                                     \n",
       "0      0.0  0.0  0.0  0.0  0.0  0.0  0.0  \n",
       "1      0.0  0.0  0.0  0.0  0.0  0.0  0.0  \n",
       "\n",
       "[2 rows x 784 columns]"
      ]
     },
     "execution_count": 547,
     "metadata": {},
     "output_type": "execute_result"
    }
   ],
   "source": [
    "# first lets calculate the means for each digit\n",
    "train_means = train_set.groupby('label').mean() # each digit has a mean in 784 dimensions (each row)\n",
    "train_means.head(2)"
   ]
  },
  {
   "cell_type": "code",
   "execution_count": 548,
   "metadata": {},
   "outputs": [],
   "source": [
    "mean_dic = train_means.to_dict(orient='index') \n",
    "# now we have a dictionary where key is the label and value is the mean array"
   ]
  },
  {
   "cell_type": "code",
   "execution_count": 549,
   "metadata": {},
   "outputs": [],
   "source": [
    "cov_matrix_dic = {}\n",
    "# want to calculate covariance matrix. where it should be 784X784 matrix since there are 784 features (pixels)\n",
    "for i in range(0, 10):\n",
    "    sub_df = train_set[train_set['label'] == i]\n",
    "    sub_df.set_index('label', inplace=True)\n",
    "    #print(\"df shape: {0}\".format(sub_df.shape))\n",
    "    cov_matrix = np.cov(sub_df, rowvar=False)\n",
    "    #print(\"cov_matrix shape: {0} \".format(cov_matrix.shape))\n",
    "    cov_matrix_dic[i] = cov_matrix"
   ]
  },
  {
   "cell_type": "markdown",
   "metadata": {},
   "source": [
    "so now we have a dictionary where each label 0-9 is the key and value for each is the cov. matrix (784X784)\n",
    "we also have a dictionary where each label 0-9 is the key and the value for each is the mean (784 dimensions)"
   ]
  },
  {
   "cell_type": "markdown",
   "metadata": {},
   "source": [
    "now lets calculate the P_j(x) functions for each digit and store them in a dictionary"
   ]
  },
  {
   "cell_type": "code",
   "execution_count": 550,
   "metadata": {},
   "outputs": [
    {
     "name": "stdout",
     "output_type": "stream",
     "text": [
      "10\n"
     ]
    }
   ],
   "source": [
    "# these are all the Pj(x) functions stored in a dictionary, one for each digit 1-9\n",
    "normal_func_dic = {}\n",
    "for i in range(10):\n",
    "    mean_array = mean_dic[i].values()\n",
    "    cov_matrix = cov_matrix_dic[i]\n",
    "    normal_func = stats.multivariate_normal(mean = mean_array, cov = cov_matrix, allow_singular=True)\n",
    "    normal_func_dic[i] = normal_func\n",
    "\n",
    "print(len(normal_func_dic))"
   ]
  },
  {
   "cell_type": "markdown",
   "metadata": {},
   "source": [
    " what dimensions is p_j(x)* pi_j supposed to have?? so p_j(x) is a single value representing the density .\n",
    "so for test set of 10 observations, each observation will have 10 different p_0_(x) through p_9_(x) and \n",
    "those are multiplied by pi_1 - pi_10 for each digit, then we want the max of those values, for each observation and\n",
    "we classify to the one with the highest value"
   ]
  },
  {
   "cell_type": "markdown",
   "metadata": {},
   "source": [
    "Now lets put things all together and create a function that takes in the observations, the class probabilities, and the P_j(x) gaussian functions for each digit and then  does a Baye's rule to classify the observation with a predicted\n",
    "digit label, (calculated by taking the largest pi_j*p_j(x). \n",
    "\n",
    "\n",
    "Since we are using logpdf we need to do log(pi_j) + log(p_j(x)) instead of pi_j*p_j(x)"
   ]
  },
  {
   "cell_type": "code",
   "execution_count": 558,
   "metadata": {},
   "outputs": [],
   "source": [
    "def get_classification_results(observations, pi_probs_dic, normal_func_dic):\n",
    "    x = np.array(observations.iloc[:,:-1]) # want to get rid of label colum  before doing calculations\n",
    "    normal_func_result_list = []\n",
    "\n",
    "    for i in range(10):\n",
    "        p_j_x = normal_func_dic[i].logpdf(x) # apply logpdf of the gaussian function to the observations\n",
    "        # add each val by log(pi_j) since logpdf\n",
    "        normal_func_result_list.append([ val + np.log(pi_probs_dic[i]) for val in p_j_x])\n",
    "    # now we have all the different p_j(x) + pi_j, 10 for each observation, we need to pick the max value    \n",
    "    result_df = pd.DataFrame(normal_func_result_list).transpose()\n",
    "    predicted_labels = result_df.idxmax(axis=1) # we get the digit that gave the max logpdf(x) + log(pi_j) value as prediction\n",
    "    final_df = pd.DataFrame(predicted_labels, columns=['predicted_label'])\n",
    "    final_df['actual_label'] = observations['label']\n",
    "    return final_df"
   ]
  },
  {
   "cell_type": "code",
   "execution_count": 559,
   "metadata": {},
   "outputs": [],
   "source": [
    "valid_result_df = get_classification_results(valid_set, pi_probs_dic, normal_func_dic)"
   ]
  },
  {
   "cell_type": "code",
   "execution_count": 560,
   "metadata": {},
   "outputs": [
    {
     "name": "stdout",
     "output_type": "stream",
     "text": [
      "(10000, 2)\n"
     ]
    },
    {
     "data": {
      "text/html": [
       "<div>\n",
       "<style>\n",
       "    .dataframe thead tr:only-child th {\n",
       "        text-align: right;\n",
       "    }\n",
       "\n",
       "    .dataframe thead th {\n",
       "        text-align: left;\n",
       "    }\n",
       "\n",
       "    .dataframe tbody tr th {\n",
       "        vertical-align: top;\n",
       "    }\n",
       "</style>\n",
       "<table border=\"1\" class=\"dataframe\">\n",
       "  <thead>\n",
       "    <tr style=\"text-align: right;\">\n",
       "      <th></th>\n",
       "      <th>predicted_label</th>\n",
       "      <th>actual_label</th>\n",
       "    </tr>\n",
       "  </thead>\n",
       "  <tbody>\n",
       "    <tr>\n",
       "      <th>0</th>\n",
       "      <td>2</td>\n",
       "      <td>2</td>\n",
       "    </tr>\n",
       "    <tr>\n",
       "      <th>1</th>\n",
       "      <td>3</td>\n",
       "      <td>3</td>\n",
       "    </tr>\n",
       "    <tr>\n",
       "      <th>2</th>\n",
       "      <td>0</td>\n",
       "      <td>0</td>\n",
       "    </tr>\n",
       "  </tbody>\n",
       "</table>\n",
       "</div>"
      ],
      "text/plain": [
       "   predicted_label  actual_label\n",
       "0                2             2\n",
       "1                3             3\n",
       "2                0             0"
      ]
     },
     "execution_count": 560,
     "metadata": {},
     "output_type": "execute_result"
    }
   ],
   "source": [
    "print(valid_result_df.shape)\n",
    "valid_result_df.head(3)"
   ]
  },
  {
   "cell_type": "markdown",
   "metadata": {},
   "source": [
    "now lets compute the predicted vs actual to see how good the classifier was"
   ]
  },
  {
   "cell_type": "code",
   "execution_count": 561,
   "metadata": {},
   "outputs": [],
   "source": [
    "# dataframe should have a predicted_label and actual_label column\n",
    "def classifier_accuracy(df):\n",
    "    num_of_correct = 0\n",
    "    for i in range(len(df)):\n",
    "        predicted = df.loc[i,'predicted_label']\n",
    "        actual = df.loc[i,'actual_label']\n",
    "        if (predicted == actual):\n",
    "            num_of_correct += 1\n",
    "\n",
    "    predict_accuracy = (float(num_of_correct) / len(df)) * 100\n",
    "    return predict_accuracy"
   ]
  },
  {
   "cell_type": "code",
   "execution_count": 562,
   "metadata": {},
   "outputs": [
    {
     "name": "stdout",
     "output_type": "stream",
     "text": [
      "validation set prediction score: 81.14\n"
     ]
    }
   ],
   "source": [
    "valid_set_score = classifier_accuracy(valid_result_df)\n",
    "print(\"validation set prediction score: {0}\".format(valid_set_score))"
   ]
  },
  {
   "cell_type": "markdown",
   "metadata": {},
   "source": [
    "so on our validation set of 10,000 observation our classifier correctly classified 81.14 % of the observations\n",
    "(or you can see a percent error of 18.86 %)"
   ]
  },
  {
   "cell_type": "markdown",
   "metadata": {},
   "source": [
    "(d) One last step is needed: it is important to smooth the covariance matrices, and the usual way to\n",
    "do this is to add in cI, where c is some constant and I is the identity matrix. What value of c\n",
    "is right? Use the validation set to help you choose. That is, choose the value of c for which the\n",
    "resulting classifier makes the fewest mistakes on the validation set. What value of c did you get?"
   ]
  },
  {
   "cell_type": "code",
   "execution_count": 563,
   "metadata": {},
   "outputs": [
    {
     "name": "stdout",
     "output_type": "stream",
     "text": [
      "(2800, 95.38)\n"
     ]
    }
   ],
   "source": [
    "identity_matrix = np.eye(784)\n",
    "best_c = 0\n",
    "best_predict_score = 0\n",
    "for c in range(1000,3000,100):\n",
    "    ci_matrix = c * identity_matrix #cI matrix\n",
    "    # these are all the Pj(x) functions stored in a dictionary, one for each digit 1-9\n",
    "    normal_func_dic = {}\n",
    "    for i in range(10):\n",
    "        mean_array = mean_dic[i].values()\n",
    "        cov_matrix = cov_matrix_dic[i] + ci_matrix\n",
    "        normal_func = stats.multivariate_normal(mean = mean_array, cov = cov_matrix, allow_singular=True)\n",
    "        normal_func_dic[i] = normal_func\n",
    "        \n",
    "    valid_result_df = get_classification_results(valid_set, pi_probs_dic, normal_func_dic)\n",
    "    valid_set_score = classifier_accuracy(valid_result_df)\n",
    "    if (valid_set_score > best_predict_score):\n",
    "        best_predict_score = valid_set_score\n",
    "        best_c = c\n",
    "print(best_c, best_predict_score)   "
   ]
  },
  {
   "cell_type": "markdown",
   "metadata": {},
   "source": [
    "iterating through some different values of c, I got a value of 2800 for c gave the best prediction score of 95.38 %, or in other words misclassified 4.62 % of the digit labels"
   ]
  },
  {
   "cell_type": "markdown",
   "metadata": {},
   "source": [
    "(e)\n",
    "1. Error rate on the MNIST test set.\n"
   ]
  },
  {
   "cell_type": "code",
   "execution_count": 564,
   "metadata": {},
   "outputs": [
    {
     "name": "stdout",
     "output_type": "stream",
     "text": [
      "test set prediction score: 95.71\n"
     ]
    }
   ],
   "source": [
    "c = 2800\n",
    "identity_matrix = np.eye(784)\n",
    "ci_matrix = c * identity_matrix #cI matrix\n",
    "normal_func_dic = {}\n",
    "for i in range(10):\n",
    "    mean_array = mean_dic[i].values()\n",
    "    cov_matrix = cov_matrix_dic[i] + ci_matrix\n",
    "    normal_func = stats.multivariate_normal(mean = mean_array, cov = cov_matrix, allow_singular=True)\n",
    "    normal_func_dic[i] = normal_func\n",
    "test_result_df = get_classification_results(test_set, pi_probs_dic, normal_func_dic)\n",
    "test_set_score = classifier_accuracy(test_result_df)\n",
    "print(\"test set prediction score: {0}\".format(test_set_score))"
   ]
  },
  {
   "cell_type": "markdown",
   "metadata": {},
   "source": [
    "so on our test set of 10,000 observation our classifier correctly classified 95.71 % of the observations\n",
    "(or you can see an error rate of **4.29 %**)"
   ]
  },
  {
   "cell_type": "markdown",
   "metadata": {},
   "source": [
    "2. Out of the misclassified test digits, pick five at random and display them. For each instance,\n",
    "list the posterior probabilities Pr(y|x) of each of the ten classes."
   ]
  },
  {
   "cell_type": "code",
   "execution_count": 578,
   "metadata": {},
   "outputs": [
    {
     "data": {
      "text/html": [
       "<div>\n",
       "<style>\n",
       "    .dataframe thead tr:only-child th {\n",
       "        text-align: right;\n",
       "    }\n",
       "\n",
       "    .dataframe thead th {\n",
       "        text-align: left;\n",
       "    }\n",
       "\n",
       "    .dataframe tbody tr th {\n",
       "        vertical-align: top;\n",
       "    }\n",
       "</style>\n",
       "<table border=\"1\" class=\"dataframe\">\n",
       "  <thead>\n",
       "    <tr style=\"text-align: right;\">\n",
       "      <th></th>\n",
       "      <th>predicted_label</th>\n",
       "      <th>actual_label</th>\n",
       "    </tr>\n",
       "  </thead>\n",
       "  <tbody>\n",
       "    <tr>\n",
       "      <th>3943</th>\n",
       "      <td>5</td>\n",
       "      <td>3</td>\n",
       "    </tr>\n",
       "    <tr>\n",
       "      <th>3117</th>\n",
       "      <td>9</td>\n",
       "      <td>5</td>\n",
       "    </tr>\n",
       "    <tr>\n",
       "      <th>1717</th>\n",
       "      <td>0</td>\n",
       "      <td>8</td>\n",
       "    </tr>\n",
       "    <tr>\n",
       "      <th>4152</th>\n",
       "      <td>1</td>\n",
       "      <td>5</td>\n",
       "    </tr>\n",
       "    <tr>\n",
       "      <th>1412</th>\n",
       "      <td>1</td>\n",
       "      <td>2</td>\n",
       "    </tr>\n",
       "  </tbody>\n",
       "</table>\n",
       "</div>"
      ],
      "text/plain": [
       "      predicted_label  actual_label\n",
       "3943                5             3\n",
       "3117                9             5\n",
       "1717                0             8\n",
       "4152                1             5\n",
       "1412                1             2"
      ]
     },
     "execution_count": 578,
     "metadata": {},
     "output_type": "execute_result"
    }
   ],
   "source": [
    "miss_class_df = test_result_df[test_result_df['predicted_label'] != test_result_df['actual_label']]\n",
    "miss_class_df = miss_class_df.sample(5) # get a random sample of 5 missclassified\n",
    "miss_class_df"
   ]
  },
  {
   "cell_type": "code",
   "execution_count": 585,
   "metadata": {},
   "outputs": [
    {
     "data": {
      "text/html": [
       "<div>\n",
       "<style>\n",
       "    .dataframe thead tr:only-child th {\n",
       "        text-align: right;\n",
       "    }\n",
       "\n",
       "    .dataframe thead th {\n",
       "        text-align: left;\n",
       "    }\n",
       "\n",
       "    .dataframe tbody tr th {\n",
       "        vertical-align: top;\n",
       "    }\n",
       "</style>\n",
       "<table border=\"1\" class=\"dataframe\">\n",
       "  <thead>\n",
       "    <tr style=\"text-align: right;\">\n",
       "      <th></th>\n",
       "      <th>0</th>\n",
       "      <th>1</th>\n",
       "      <th>2</th>\n",
       "      <th>3</th>\n",
       "      <th>4</th>\n",
       "      <th>5</th>\n",
       "      <th>6</th>\n",
       "      <th>7</th>\n",
       "      <th>8</th>\n",
       "      <th>9</th>\n",
       "      <th>...</th>\n",
       "      <th>777</th>\n",
       "      <th>778</th>\n",
       "      <th>779</th>\n",
       "      <th>780</th>\n",
       "      <th>781</th>\n",
       "      <th>782</th>\n",
       "      <th>783</th>\n",
       "      <th>label</th>\n",
       "      <th>predicted_label</th>\n",
       "      <th>actual_label</th>\n",
       "    </tr>\n",
       "  </thead>\n",
       "  <tbody>\n",
       "    <tr>\n",
       "      <th>3943</th>\n",
       "      <td>0</td>\n",
       "      <td>0</td>\n",
       "      <td>0</td>\n",
       "      <td>0</td>\n",
       "      <td>0</td>\n",
       "      <td>0</td>\n",
       "      <td>0</td>\n",
       "      <td>0</td>\n",
       "      <td>0</td>\n",
       "      <td>0</td>\n",
       "      <td>...</td>\n",
       "      <td>0</td>\n",
       "      <td>0</td>\n",
       "      <td>0</td>\n",
       "      <td>0</td>\n",
       "      <td>0</td>\n",
       "      <td>0</td>\n",
       "      <td>0</td>\n",
       "      <td>3</td>\n",
       "      <td>5</td>\n",
       "      <td>3</td>\n",
       "    </tr>\n",
       "    <tr>\n",
       "      <th>3117</th>\n",
       "      <td>0</td>\n",
       "      <td>0</td>\n",
       "      <td>0</td>\n",
       "      <td>0</td>\n",
       "      <td>0</td>\n",
       "      <td>0</td>\n",
       "      <td>0</td>\n",
       "      <td>0</td>\n",
       "      <td>0</td>\n",
       "      <td>0</td>\n",
       "      <td>...</td>\n",
       "      <td>0</td>\n",
       "      <td>0</td>\n",
       "      <td>0</td>\n",
       "      <td>0</td>\n",
       "      <td>0</td>\n",
       "      <td>0</td>\n",
       "      <td>0</td>\n",
       "      <td>5</td>\n",
       "      <td>9</td>\n",
       "      <td>5</td>\n",
       "    </tr>\n",
       "    <tr>\n",
       "      <th>1717</th>\n",
       "      <td>0</td>\n",
       "      <td>0</td>\n",
       "      <td>0</td>\n",
       "      <td>0</td>\n",
       "      <td>0</td>\n",
       "      <td>0</td>\n",
       "      <td>0</td>\n",
       "      <td>0</td>\n",
       "      <td>0</td>\n",
       "      <td>0</td>\n",
       "      <td>...</td>\n",
       "      <td>0</td>\n",
       "      <td>0</td>\n",
       "      <td>0</td>\n",
       "      <td>0</td>\n",
       "      <td>0</td>\n",
       "      <td>0</td>\n",
       "      <td>0</td>\n",
       "      <td>8</td>\n",
       "      <td>0</td>\n",
       "      <td>8</td>\n",
       "    </tr>\n",
       "    <tr>\n",
       "      <th>4152</th>\n",
       "      <td>0</td>\n",
       "      <td>0</td>\n",
       "      <td>0</td>\n",
       "      <td>0</td>\n",
       "      <td>0</td>\n",
       "      <td>0</td>\n",
       "      <td>0</td>\n",
       "      <td>0</td>\n",
       "      <td>0</td>\n",
       "      <td>0</td>\n",
       "      <td>...</td>\n",
       "      <td>0</td>\n",
       "      <td>0</td>\n",
       "      <td>0</td>\n",
       "      <td>0</td>\n",
       "      <td>0</td>\n",
       "      <td>0</td>\n",
       "      <td>0</td>\n",
       "      <td>5</td>\n",
       "      <td>1</td>\n",
       "      <td>5</td>\n",
       "    </tr>\n",
       "    <tr>\n",
       "      <th>1412</th>\n",
       "      <td>0</td>\n",
       "      <td>0</td>\n",
       "      <td>0</td>\n",
       "      <td>0</td>\n",
       "      <td>0</td>\n",
       "      <td>0</td>\n",
       "      <td>0</td>\n",
       "      <td>0</td>\n",
       "      <td>0</td>\n",
       "      <td>0</td>\n",
       "      <td>...</td>\n",
       "      <td>0</td>\n",
       "      <td>0</td>\n",
       "      <td>0</td>\n",
       "      <td>0</td>\n",
       "      <td>0</td>\n",
       "      <td>0</td>\n",
       "      <td>0</td>\n",
       "      <td>2</td>\n",
       "      <td>1</td>\n",
       "      <td>2</td>\n",
       "    </tr>\n",
       "  </tbody>\n",
       "</table>\n",
       "<p>5 rows × 787 columns</p>\n",
       "</div>"
      ],
      "text/plain": [
       "      0  1  2  3  4  5  6  7  8  9      ...       777  778  779  780  781  \\\n",
       "3943  0  0  0  0  0  0  0  0  0  0      ...         0    0    0    0    0   \n",
       "3117  0  0  0  0  0  0  0  0  0  0      ...         0    0    0    0    0   \n",
       "1717  0  0  0  0  0  0  0  0  0  0      ...         0    0    0    0    0   \n",
       "4152  0  0  0  0  0  0  0  0  0  0      ...         0    0    0    0    0   \n",
       "1412  0  0  0  0  0  0  0  0  0  0      ...         0    0    0    0    0   \n",
       "\n",
       "      782  783  label  predicted_label  actual_label  \n",
       "3943    0    0      3                5             3  \n",
       "3117    0    0      5                9             5  \n",
       "1717    0    0      8                0             8  \n",
       "4152    0    0      5                1             5  \n",
       "1412    0    0      2                1             2  \n",
       "\n",
       "[5 rows x 787 columns]"
      ]
     },
     "execution_count": 585,
     "metadata": {},
     "output_type": "execute_result"
    }
   ],
   "source": [
    "index_list = miss_class_df.index.values\n",
    "miss_class_fin_df = test_set.iloc[index_list,:]\n",
    "miss_class_fin_df = miss_class_fin_df.join(miss_class_df)\n",
    "miss_class_fin_df"
   ]
  },
  {
   "cell_type": "markdown",
   "metadata": {},
   "source": [
    "**Note** - we are calculating the posterior probabilities below as logpdf(x)  + log(digit_prob)"
   ]
  },
  {
   "cell_type": "code",
   "execution_count": 586,
   "metadata": {},
   "outputs": [
    {
     "data": {
      "text/html": [
       "<div>\n",
       "<style>\n",
       "    .dataframe thead tr:only-child th {\n",
       "        text-align: right;\n",
       "    }\n",
       "\n",
       "    .dataframe thead th {\n",
       "        text-align: left;\n",
       "    }\n",
       "\n",
       "    .dataframe tbody tr th {\n",
       "        vertical-align: top;\n",
       "    }\n",
       "</style>\n",
       "<table border=\"1\" class=\"dataframe\">\n",
       "  <thead>\n",
       "    <tr style=\"text-align: right;\">\n",
       "      <th></th>\n",
       "      <th>post_prob_0</th>\n",
       "      <th>post_prob_1</th>\n",
       "      <th>post_prob_2</th>\n",
       "      <th>post_prob_3</th>\n",
       "      <th>post_prob_4</th>\n",
       "      <th>post_prob_5</th>\n",
       "      <th>post_prob_6</th>\n",
       "      <th>post_prob_7</th>\n",
       "      <th>post_prob_8</th>\n",
       "      <th>post_prob_9</th>\n",
       "    </tr>\n",
       "  </thead>\n",
       "  <tbody>\n",
       "    <tr>\n",
       "      <th>0</th>\n",
       "      <td>-4110.928803</td>\n",
       "      <td>-4188.972417</td>\n",
       "      <td>-4084.041560</td>\n",
       "      <td>-4010.074176</td>\n",
       "      <td>-4076.615213</td>\n",
       "      <td>-4009.526880</td>\n",
       "      <td>-4099.355812</td>\n",
       "      <td>-4166.506101</td>\n",
       "      <td>-4023.585954</td>\n",
       "      <td>-4091.878497</td>\n",
       "    </tr>\n",
       "    <tr>\n",
       "      <th>1</th>\n",
       "      <td>-4119.707963</td>\n",
       "      <td>-4129.186216</td>\n",
       "      <td>-4130.634131</td>\n",
       "      <td>-4054.125371</td>\n",
       "      <td>-4061.717785</td>\n",
       "      <td>-4039.315060</td>\n",
       "      <td>-4102.816811</td>\n",
       "      <td>-4060.918540</td>\n",
       "      <td>-4059.725157</td>\n",
       "      <td>-4027.032194</td>\n",
       "    </tr>\n",
       "    <tr>\n",
       "      <th>2</th>\n",
       "      <td>-4046.459739</td>\n",
       "      <td>-4382.712858</td>\n",
       "      <td>-4135.751878</td>\n",
       "      <td>-4084.897229</td>\n",
       "      <td>-4229.002800</td>\n",
       "      <td>-4087.350942</td>\n",
       "      <td>-4098.972865</td>\n",
       "      <td>-4260.179114</td>\n",
       "      <td>-4094.780260</td>\n",
       "      <td>-4173.420434</td>\n",
       "    </tr>\n",
       "    <tr>\n",
       "      <th>3</th>\n",
       "      <td>-4095.676908</td>\n",
       "      <td>-4016.301821</td>\n",
       "      <td>-4073.694551</td>\n",
       "      <td>-4076.473490</td>\n",
       "      <td>-4083.847210</td>\n",
       "      <td>-4024.691880</td>\n",
       "      <td>-4093.941763</td>\n",
       "      <td>-4080.036463</td>\n",
       "      <td>-4034.455373</td>\n",
       "      <td>-4079.980782</td>\n",
       "    </tr>\n",
       "    <tr>\n",
       "      <th>4</th>\n",
       "      <td>-4125.026027</td>\n",
       "      <td>-4028.971019</td>\n",
       "      <td>-4035.772529</td>\n",
       "      <td>-4083.918345</td>\n",
       "      <td>-4099.167062</td>\n",
       "      <td>-4128.823923</td>\n",
       "      <td>-4111.690539</td>\n",
       "      <td>-4124.895473</td>\n",
       "      <td>-4064.347301</td>\n",
       "      <td>-4116.473218</td>\n",
       "    </tr>\n",
       "  </tbody>\n",
       "</table>\n",
       "</div>"
      ],
      "text/plain": [
       "   post_prob_0  post_prob_1  post_prob_2  post_prob_3  post_prob_4  \\\n",
       "0 -4110.928803 -4188.972417 -4084.041560 -4010.074176 -4076.615213   \n",
       "1 -4119.707963 -4129.186216 -4130.634131 -4054.125371 -4061.717785   \n",
       "2 -4046.459739 -4382.712858 -4135.751878 -4084.897229 -4229.002800   \n",
       "3 -4095.676908 -4016.301821 -4073.694551 -4076.473490 -4083.847210   \n",
       "4 -4125.026027 -4028.971019 -4035.772529 -4083.918345 -4099.167062   \n",
       "\n",
       "   post_prob_5  post_prob_6  post_prob_7  post_prob_8  post_prob_9  \n",
       "0 -4009.526880 -4099.355812 -4166.506101 -4023.585954 -4091.878497  \n",
       "1 -4039.315060 -4102.816811 -4060.918540 -4059.725157 -4027.032194  \n",
       "2 -4087.350942 -4098.972865 -4260.179114 -4094.780260 -4173.420434  \n",
       "3 -4024.691880 -4093.941763 -4080.036463 -4034.455373 -4079.980782  \n",
       "4 -4128.823923 -4111.690539 -4124.895473 -4064.347301 -4116.473218  "
      ]
     },
     "execution_count": 586,
     "metadata": {},
     "output_type": "execute_result"
    }
   ],
   "source": [
    "observations = miss_class_fin_df.iloc[:,:-3]\n",
    "x = np.array(observations)\n",
    "df_list = []\n",
    "# loop through and use the gaussian distribution function for each digit and multiply by pi_probs value\n",
    "for i in range(10):\n",
    "    p_j_x = normal_func_dic[i].logpdf(x) # apply logpdf of the gaussian function to the observations\n",
    "    posterior_prob = p_j_x + np.log(pi_probs[i]) # we are using logpdf(x) + log(digit_prob)\n",
    "    df_list.append(pd.DataFrame(posterior_prob))\n",
    "post_probs_df = pd.concat(df_list, axis=1)\n",
    "post_probs_df.columns = [ \"post_prob_\"  + str(x) for x in range(10)]\n",
    "post_probs_df"
   ]
  },
  {
   "cell_type": "code",
   "execution_count": 591,
   "metadata": {},
   "outputs": [
    {
     "data": {
      "image/png": "[encoded data removed]",
      "text/plain": [
       "<matplotlib.figure.Figure at 0x10f4a2610>"
      ]
     },
     "metadata": {},
     "output_type": "display_data"
    },
    {
     "name": "stdout",
     "output_type": "stream",
     "text": [
      "predicted: 5, actual: 3\n",
      "posterior probabilities Pr(y|x):\n",
      "post_prob_0   -4110.928803\n",
      "post_prob_1   -4188.972417\n",
      "post_prob_2   -4084.041560\n",
      "post_prob_3   -4010.074176\n",
      "post_prob_4   -4076.615213\n",
      "post_prob_5   -4009.526880\n",
      "post_prob_6   -4099.355812\n",
      "post_prob_7   -4166.506101\n",
      "post_prob_8   -4023.585954\n",
      "post_prob_9   -4091.878497\n",
      "Name: 0, dtype: float64\n"
     ]
    },
    {
     "data": {
      "image/png": "[encoded data removed]",
      "text/plain": [
       "<matplotlib.figure.Figure at 0x10f243410>"
      ]
     },
     "metadata": {},
     "output_type": "display_data"
    },
    {
     "name": "stdout",
     "output_type": "stream",
     "text": [
      "predicted: 9, actual: 5\n",
      "posterior probabilities Pr(y|x):\n",
      "post_prob_0   -4119.707963\n",
      "post_prob_1   -4129.186216\n",
      "post_prob_2   -4130.634131\n",
      "post_prob_3   -4054.125371\n",
      "post_prob_4   -4061.717785\n",
      "post_prob_5   -4039.315060\n",
      "post_prob_6   -4102.816811\n",
      "post_prob_7   -4060.918540\n",
      "post_prob_8   -4059.725157\n",
      "post_prob_9   -4027.032194\n",
      "Name: 1, dtype: float64\n"
     ]
    },
    {
     "data": {
      "image/png": "[encoded data removed]",
      "text/plain": [
       "<matplotlib.figure.Figure at 0x114e65f90>"
      ]
     },
     "metadata": {},
     "output_type": "display_data"
    },
    {
     "name": "stdout",
     "output_type": "stream",
     "text": [
      "predicted: 0, actual: 8\n",
      "posterior probabilities Pr(y|x):\n",
      "post_prob_0   -4046.459739\n",
      "post_prob_1   -4382.712858\n",
      "post_prob_2   -4135.751878\n",
      "post_prob_3   -4084.897229\n",
      "post_prob_4   -4229.002800\n",
      "post_prob_5   -4087.350942\n",
      "post_prob_6   -4098.972865\n",
      "post_prob_7   -4260.179114\n",
      "post_prob_8   -4094.780260\n",
      "post_prob_9   -4173.420434\n",
      "Name: 2, dtype: float64\n"
     ]
    },
    {
     "data": {
      "image/png": "[encoded data removed]",
      "text/plain": [
       "<matplotlib.figure.Figure at 0x10f2881d0>"
      ]
     },
     "metadata": {},
     "output_type": "display_data"
    },
    {
     "name": "stdout",
     "output_type": "stream",
     "text": [
      "predicted: 1, actual: 5\n",
      "posterior probabilities Pr(y|x):\n",
      "post_prob_0   -4095.676908\n",
      "post_prob_1   -4016.301821\n",
      "post_prob_2   -4073.694551\n",
      "post_prob_3   -4076.473490\n",
      "post_prob_4   -4083.847210\n",
      "post_prob_5   -4024.691880\n",
      "post_prob_6   -4093.941763\n",
      "post_prob_7   -4080.036463\n",
      "post_prob_8   -4034.455373\n",
      "post_prob_9   -4079.980782\n",
      "Name: 3, dtype: float64\n"
     ]
    },
    {
     "data": {
      "image/png": "[encoded data removed]",
      "text/plain": [
       "<matplotlib.figure.Figure at 0x10f24fe90>"
      ]
     },
     "metadata": {},
     "output_type": "display_data"
    },
    {
     "name": "stdout",
     "output_type": "stream",
     "text": [
      "predicted: 1, actual: 2\n",
      "posterior probabilities Pr(y|x):\n",
      "post_prob_0   -4125.026027\n",
      "post_prob_1   -4028.971019\n",
      "post_prob_2   -4035.772529\n",
      "post_prob_3   -4083.918345\n",
      "post_prob_4   -4099.167062\n",
      "post_prob_5   -4128.823923\n",
      "post_prob_6   -4111.690539\n",
      "post_prob_7   -4124.895473\n",
      "post_prob_8   -4064.347301\n",
      "post_prob_9   -4116.473218\n",
      "Name: 4, dtype: float64\n"
     ]
    }
   ],
   "source": [
    "for i in range(5):\n",
    "    displaychar(np.array(miss_class_fin_df.iloc[i,:-3]))\n",
    "    predicted = miss_class_fin_df.iloc[i,-2]\n",
    "    actual = miss_class_fin_df.iloc[i,-1]\n",
    "    print(\"predicted: {0}, actual: {1}\".format(predicted, actual))\n",
    "    print(\"posterior probabilities Pr(y|x):\")\n",
    "    print(post_probs_df.iloc[i])"
   ]
  },
  {
   "cell_type": "code",
   "execution_count": null,
   "metadata": {},
   "outputs": [],
   "source": []
  }
 ],
 "metadata": {
  "anaconda-cloud": {},
  "celltoolbar": "Slideshow",
  "hide_code_all_hidden": false,
  "kernelspec": {
   "display_name": "Python 2",
   "language": "python",
   "name": "python2"
  },
  "language_info": {
   "codemirror_mode": {
    "name": "ipython",
    "version": 2
   },
   "file_extension": ".py",
   "mimetype": "text/x-python",
   "name": "python",
   "nbconvert_exporter": "python",
   "pygments_lexer": "ipython2",
   "version": "2.7.13"
  }
 },
 "nbformat": 4,
 "nbformat_minor": 2
}
